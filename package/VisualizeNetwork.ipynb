{
 "cells": [
  {
   "cell_type": "code",
   "execution_count": null,
   "id": "bedb3273-c17c-4d7e-98cf-d6f5fb349cdc",
   "metadata": {},
   "outputs": [],
   "source": [
    "import pandas as pd\n",
    "import GeneSigNet as GSN\n",
    "from pyvis.network import Network\n",
    "\n",
    "def VisualizeNetwork(W, Signatures, th):\n",
    "    net=Network(height='1000px', width='100%', bgcolor='white', font_color='black', directed = True)\n",
    "    net.barnes_hut()\n",
    "\n",
    "    sources=[]; targets=[]; weights=[]\n",
    "    for sig in Signatures:\n",
    "        t=W.loc[:,sig]\n",
    "        t=t[abs(t)>th]\n",
    "        r=W.loc[sig,:]\n",
    "        r=r[abs(r)>th]\n",
    "        sources =sources+[sig] * len(t)+list(r.index)\n",
    "        targets=targets+list(t.index)+[sig] * (len(r))\n",
    "        weights=weights+list(t)+list(r)\n",
    "    edges=zip(sources,targets, weights)\n",
    "\n",
    "    net.toggle_physics(False)\n",
    "    for e in edges:\n",
    "        reg = e[0]\n",
    "        tar=e[1]\n",
    "        w=e[2]\n",
    "        if reg in Signatures:\n",
    "            net.add_node(reg, reg, title=reg, color='orange', shape = 'owl')\n",
    "        else:\n",
    "            net.add_node(reg, reg, title=reg, color='green')\n",
    "        if tar in Signatures:\n",
    "            net.add_node(tar, tar, title=tar, color='orange', shape = 'owl')\n",
    "        else:\n",
    "            net.add_node(tar, tar, title=reg, color='green')    \n",
    "        if w>0:\n",
    "            net.add_edge(reg, tar, value=w, color='red')\n",
    "        else:\n",
    "            net.add_edge(reg, tar, value=w, color='blue')\n",
    "    \n",
    "    neighbor_map = net.get_adj_list()\n",
    "    for node in net.nodes:\n",
    "        node['title'] += ' Neighbor:<>'+'<br>'.join(neighbor_map[node['id']])\n",
    "        node['value'] = len(neighbor_map[node['id']])\n",
    "    net.show('SignatureNetwork_Simulated.html')\n",
    "\n",
    "    from IPython.core.display import display, HTML\n",
    "    display(HTML('SignatureNetwork_Simulated.html'))\n",
    "    net.toggle_physics(False)\n",
    "\n",
    "Weight_Matrix = pd.read_csv('Weight_Matrix_Simulated.csv', index_col=0)  \n",
    "\n",
    "# Visualize the subnetwork of signatures and thier up and down stream genes\n",
    "Signatures=SigData.columns  # Signatures\n",
    "th=0.05          # Weight threshold for selecting stronger edges to include in the visualization\n",
    "# Network visualization module: Negative influences in blue, positive influences in red as the arrow colors represent \n",
    "# and The thickness of the arrows represents the edge weigh\n",
    "VisualizeNetwork(Weight_Matrix, Signatures, th) "
   ]
  }
 ],
 "metadata": {
  "kernelspec": {
   "display_name": "Python 3",
   "language": "python",
   "name": "python3"
  },
  "language_info": {
   "codemirror_mode": {
    "name": "ipython",
    "version": 3
   },
   "file_extension": ".py",
   "mimetype": "text/x-python",
   "name": "python",
   "nbconvert_exporter": "python",
   "pygments_lexer": "ipython3",
   "version": "3.8.8"
  }
 },
 "nbformat": 4,
 "nbformat_minor": 5
}
