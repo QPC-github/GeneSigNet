{
 "cells": [
  {
   "cell_type": "code",
   "execution_count": 5,
   "id": "3ec14db2-b8bc-4e62-97ce-12296d2beacc",
   "metadata": {},
   "outputs": [],
   "source": [
    "import pandas as pd\n",
    "import GeneSigNet as GSN\n",
    "from pyvis.network import Network\n",
    "\n",
    "def VisualizeNetwork(W, Signatures, th):\n",
    "    net=Network(height='1000px', width='100%', bgcolor='white', font_color='black', directed = True)\n",
    "    net.barnes_hut()\n",
    "\n",
    "    sources=[]; targets=[]; weights=[]\n",
    "    for sig in Signatures:\n",
    "        t=W.loc[:,sig]\n",
    "        t=t[abs(t)>th]\n",
    "        r=W.loc[sig,:]\n",
    "        r=r[abs(r)>th]\n",
    "        sources =sources+[sig] * len(t)+list(r.index)\n",
    "        targets=targets+list(t.index)+[sig] * (len(r))\n",
    "        weights=weights+list(t)+list(r)\n",
    "    edges=zip(sources,targets, weights)\n",
    "\n",
    "    net.toggle_physics(False)\n",
    "    for e in edges:\n",
    "        reg = e[0]\n",
    "        tar=e[1]\n",
    "        w=e[2]\n",
    "        if reg in Signatures:\n",
    "            net.add_node(reg, reg, title=reg, color='orange', shape = 'owl')\n",
    "        else:\n",
    "            net.add_node(reg, reg, title=reg, color='green')\n",
    "        if tar in Signatures:\n",
    "            net.add_node(tar, tar, title=tar, color='orange', shape = 'owl')\n",
    "        else:\n",
    "            net.add_node(tar, tar, title=reg, color='green')    \n",
    "        if w>0:\n",
    "            net.add_edge(reg, tar, value=w, color='red')\n",
    "        else:\n",
    "            net.add_edge(reg, tar, value=w, color='blue')\n",
    "    \n",
    "    neighbor_map = net.get_adj_list()\n",
    "    for node in net.nodes:\n",
    "        node['title'] += ' Neighbor:<>'+'<br>'.join(neighbor_map[node['id']])\n",
    "        node['value'] = len(neighbor_map[node['id']])\n",
    "    net.show('SignatureNetwork_Simulated.html')\n",
    "\n",
    "    #from IPython.core.display import display, HTML\n",
    "    #display(HTML('SignatureNetwork.html'))\n",
    "    #net.toggle_physics(False)\n",
    "\n",
    "maxit=10000; tolerance=1e-12; \n",
    "ExpData = pd.read_csv('Gene_Expression_Simulated_Data.csv', index_col=0)  \n",
    "SigData = pd.read_csv('Signature_Exposure_Simulated_Data.csv', index_col=0)\n",
    "D=pd.concat([ExpData, SigData], axis=1)\n",
    "Net=GSN.WeightMatrix(D, maxit, tolerance)  \n",
    "Weight_Matrix=Net.ConstructNet()\n",
    "Weight_Matrix.to_csv('Weight_Matrix_Simulated.csv')\n",
    "Signatures=SigData.columns\n",
    "th=0.05\n",
    "VisualizeNetwork(Weight_Matrix, Signatures, th)"
   ]
  },
  {
   "cell_type": "code",
   "execution_count": null,
   "id": "4c5062c6-dee1-4414-9da3-9e7aed52b2d2",
   "metadata": {},
   "outputs": [],
   "source": []
  },
  {
   "cell_type": "code",
   "execution_count": null,
   "id": "909685d8-fe99-4d89-ba99-de110311a8a8",
   "metadata": {},
   "outputs": [],
   "source": []
  }
 ],
 "metadata": {
  "kernelspec": {
   "display_name": "Python 3 (ipykernel)",
   "language": "python",
   "name": "python3"
  },
  "language_info": {
   "codemirror_mode": {
    "name": "ipython",
    "version": 3
   },
   "file_extension": ".py",
   "mimetype": "text/x-python",
   "name": "python",
   "nbconvert_exporter": "python",
   "pygments_lexer": "ipython3",
   "version": "3.9.7"
  }
 },
 "nbformat": 4,
 "nbformat_minor": 5
}
